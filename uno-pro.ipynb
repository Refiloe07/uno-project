{
 "cells": [
  {
   "cell_type": "code",
   "execution_count": 10,
   "id": "5a0aa659",
   "metadata": {},
   "outputs": [
    {
     "data": {
      "text/plain": [
       "['red 1',\n",
       " 'red 2',\n",
       " 'red 3',\n",
       " 'red 4',\n",
       " 'red 5',\n",
       " 'red 6',\n",
       " 'red 7',\n",
       " 'red 8',\n",
       " 'red 9',\n",
       " 'red draw two',\n",
       " 'red skip',\n",
       " 'red reverse',\n",
       " 'green 1',\n",
       " 'green 2',\n",
       " 'green 3',\n",
       " 'green 4',\n",
       " 'green 5',\n",
       " 'green 6',\n",
       " 'green 7',\n",
       " 'green 8',\n",
       " 'green 9',\n",
       " 'green draw two',\n",
       " 'green skip',\n",
       " 'green reverse',\n",
       " 'yellow 1',\n",
       " 'yellow 2',\n",
       " 'yellow 3',\n",
       " 'yellow 4',\n",
       " 'yellow 5',\n",
       " 'yellow 6',\n",
       " 'yellow 7',\n",
       " 'yellow 8',\n",
       " 'yellow 9',\n",
       " 'yellow draw two',\n",
       " 'yellow skip',\n",
       " 'yellow reverse',\n",
       " 'blue 1',\n",
       " 'blue 2',\n",
       " 'blue 3',\n",
       " 'blue 4',\n",
       " 'blue 5',\n",
       " 'blue 6',\n",
       " 'blue 7',\n",
       " 'blue 8',\n",
       " 'blue 9',\n",
       " 'blue draw two',\n",
       " 'blue skip',\n",
       " 'blue reverse']"
      ]
     },
     "execution_count": 10,
     "metadata": {},
     "output_type": "execute_result"
    }
   ],
   "source": [
    "def play_uno():\n",
    "    deck = []\n",
    "    colors = ['red','green','yellow','blue']\n",
    "    values = [1,2,3,4,5,6,7,8,9,'draw two', 'skip', 'reverse']\n",
    "\n",
    "    for color in colors:\n",
    "        for value in values:\n",
    "\n",
    "            card_value = '{} {}'.format(color, value)\n",
    "\n",
    "            deck.append(card_value)\n",
    "\n",
    "    return deck\n",
    "\n",
    "\n",
    "\n",
    "play_uno()"
   ]
  }
 ],
 "metadata": {
  "kernelspec": {
   "display_name": ".venv",
   "language": "python",
   "name": "python3"
  },
  "language_info": {
   "codemirror_mode": {
    "name": "ipython",
    "version": 3
   },
   "file_extension": ".py",
   "mimetype": "text/x-python",
   "name": "python",
   "nbconvert_exporter": "python",
   "pygments_lexer": "ipython3",
   "version": "3.10.12"
  }
 },
 "nbformat": 4,
 "nbformat_minor": 5
}
